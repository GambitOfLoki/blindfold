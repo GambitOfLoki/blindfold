{
 "cells": [
  {
   "cell_type": "code",
   "execution_count": 1,
   "id": "228cb601-47a3-448d-9a0d-4ade25be64ec",
   "metadata": {},
   "outputs": [
    {
     "data": {
      "text/html": [
       "<div>\n",
       "<style scoped>\n",
       "    .dataframe tbody tr th:only-of-type {\n",
       "        vertical-align: middle;\n",
       "    }\n",
       "\n",
       "    .dataframe tbody tr th {\n",
       "        vertical-align: top;\n",
       "    }\n",
       "\n",
       "    .dataframe thead th {\n",
       "        text-align: right;\n",
       "    }\n",
       "</style>\n",
       "<table border=\"1\" class=\"dataframe\">\n",
       "  <thead>\n",
       "    <tr style=\"text-align: right;\">\n",
       "      <th></th>\n",
       "      <th>customer_id</th>\n",
       "      <th>session_id</th>\n",
       "      <th>search_id</th>\n",
       "      <th>merchant_uuid</th>\n",
       "      <th>event_date</th>\n",
       "      <th>restaurant_position</th>\n",
       "      <th>eta_in_minutes</th>\n",
       "      <th>distance</th>\n",
       "      <th>rating</th>\n",
       "      <th>search_label</th>\n",
       "      <th>...</th>\n",
       "      <th>active_item_count</th>\n",
       "      <th>average_feedback_rating</th>\n",
       "      <th>booking_completion_rate_percentage</th>\n",
       "      <th>event_month</th>\n",
       "      <th>overall_engagement_level</th>\n",
       "      <th>involvement_engagement_level</th>\n",
       "      <th>interaction_engagement_level</th>\n",
       "      <th>intimacy_engagement_level</th>\n",
       "      <th>last_order_days_since_epoch</th>\n",
       "      <th>last_visit_days_since_epoch</th>\n",
       "    </tr>\n",
       "  </thead>\n",
       "  <tbody>\n",
       "    <tr>\n",
       "      <th>0</th>\n",
       "      <td>697618679</td>\n",
       "      <td>4cbe483e-1465-40bf-8eb3-65f35847231b</td>\n",
       "      <td>168f137d-9e29-4923-8be5-9069e837f379</td>\n",
       "      <td>0064aa5d-d0fa-49fe-8025-032e8a23445f</td>\n",
       "      <td>2022-11-03</td>\n",
       "      <td>3</td>\n",
       "      <td>27</td>\n",
       "      <td>1.5</td>\n",
       "      <td>4.5</td>\n",
       "      <td>0</td>\n",
       "      <td>...</td>\n",
       "      <td>53.0</td>\n",
       "      <td>NaN</td>\n",
       "      <td>0.932439</td>\n",
       "      <td>NaN</td>\n",
       "      <td>NaN</td>\n",
       "      <td>NaN</td>\n",
       "      <td>NaN</td>\n",
       "      <td>NaN</td>\n",
       "      <td>NaN</td>\n",
       "      <td>NaN</td>\n",
       "    </tr>\n",
       "    <tr>\n",
       "      <th>1</th>\n",
       "      <td>548555263</td>\n",
       "      <td>589b0794-c969-41bf-80db-d89178e1720b</td>\n",
       "      <td>1001e301-1ca2-4f8d-880d-d4bedb52bbc9</td>\n",
       "      <td>8062de23-6b2a-4b5e-be9b-2821e4abd5e3</td>\n",
       "      <td>2022-11-03</td>\n",
       "      <td>5</td>\n",
       "      <td>19</td>\n",
       "      <td>1.1</td>\n",
       "      <td>0.0</td>\n",
       "      <td>0</td>\n",
       "      <td>...</td>\n",
       "      <td>80.0</td>\n",
       "      <td>NaN</td>\n",
       "      <td>0.500000</td>\n",
       "      <td>2022-10-01</td>\n",
       "      <td>Moderate</td>\n",
       "      <td>Low</td>\n",
       "      <td>Moderate</td>\n",
       "      <td>Low</td>\n",
       "      <td>NaN</td>\n",
       "      <td>NaN</td>\n",
       "    </tr>\n",
       "    <tr>\n",
       "      <th>2</th>\n",
       "      <td>686204148</td>\n",
       "      <td>4e46b74b-f0e4-4134-8e2d-c87fc38c9470</td>\n",
       "      <td>def34e16-0c79-4e09-966c-d2eda398cea0</td>\n",
       "      <td>2e3a6b46-a1ca-4fd2-a106-b0a143082b85</td>\n",
       "      <td>2022-11-03</td>\n",
       "      <td>7</td>\n",
       "      <td>25</td>\n",
       "      <td>1.3</td>\n",
       "      <td>0.0</td>\n",
       "      <td>0</td>\n",
       "      <td>...</td>\n",
       "      <td>12.0</td>\n",
       "      <td>NaN</td>\n",
       "      <td>0.672131</td>\n",
       "      <td>2022-10-01</td>\n",
       "      <td>Moderate</td>\n",
       "      <td>Moderate</td>\n",
       "      <td>Low</td>\n",
       "      <td>Low</td>\n",
       "      <td>NaN</td>\n",
       "      <td>NaN</td>\n",
       "    </tr>\n",
       "    <tr>\n",
       "      <th>3</th>\n",
       "      <td>686794860</td>\n",
       "      <td>da47d8a7-f838-451f-8675-f7946dda8589</td>\n",
       "      <td>604ff606-f783-4292-90f3-9b85e3fa41cf</td>\n",
       "      <td>691d9feb-68b9-4e9b-a2ce-ce316309e964</td>\n",
       "      <td>2022-11-03</td>\n",
       "      <td>1</td>\n",
       "      <td>26</td>\n",
       "      <td>1.7</td>\n",
       "      <td>4.5</td>\n",
       "      <td>0</td>\n",
       "      <td>...</td>\n",
       "      <td>92.0</td>\n",
       "      <td>4.848233</td>\n",
       "      <td>0.816798</td>\n",
       "      <td>NaN</td>\n",
       "      <td>NaN</td>\n",
       "      <td>NaN</td>\n",
       "      <td>NaN</td>\n",
       "      <td>NaN</td>\n",
       "      <td>NaN</td>\n",
       "      <td>NaN</td>\n",
       "    </tr>\n",
       "    <tr>\n",
       "      <th>4</th>\n",
       "      <td>786490579</td>\n",
       "      <td>36A9349E-1AC5-4499-A4B4-BEF6610FE114</td>\n",
       "      <td>9eec4f39-f749-4b3b-afd2-ad9e1965b1cf</td>\n",
       "      <td>19fd6c7c-06b8-411e-8107-c542c23c486c</td>\n",
       "      <td>2022-11-03</td>\n",
       "      <td>13</td>\n",
       "      <td>31</td>\n",
       "      <td>2.8</td>\n",
       "      <td>4.4</td>\n",
       "      <td>0</td>\n",
       "      <td>...</td>\n",
       "      <td>77.0</td>\n",
       "      <td>NaN</td>\n",
       "      <td>0.950000</td>\n",
       "      <td>2022-10-01</td>\n",
       "      <td>Low</td>\n",
       "      <td>Low</td>\n",
       "      <td>Non-engaged</td>\n",
       "      <td>Non-engaged</td>\n",
       "      <td>NaN</td>\n",
       "      <td>NaN</td>\n",
       "    </tr>\n",
       "  </tbody>\n",
       "</table>\n",
       "<p>5 rows × 62 columns</p>\n",
       "</div>"
      ],
      "text/plain": [
       "   customer_id                            session_id  \\\n",
       "0    697618679  4cbe483e-1465-40bf-8eb3-65f35847231b   \n",
       "1    548555263  589b0794-c969-41bf-80db-d89178e1720b   \n",
       "2    686204148  4e46b74b-f0e4-4134-8e2d-c87fc38c9470   \n",
       "3    686794860  da47d8a7-f838-451f-8675-f7946dda8589   \n",
       "4    786490579  36A9349E-1AC5-4499-A4B4-BEF6610FE114   \n",
       "\n",
       "                              search_id                         merchant_uuid  \\\n",
       "0  168f137d-9e29-4923-8be5-9069e837f379  0064aa5d-d0fa-49fe-8025-032e8a23445f   \n",
       "1  1001e301-1ca2-4f8d-880d-d4bedb52bbc9  8062de23-6b2a-4b5e-be9b-2821e4abd5e3   \n",
       "2  def34e16-0c79-4e09-966c-d2eda398cea0  2e3a6b46-a1ca-4fd2-a106-b0a143082b85   \n",
       "3  604ff606-f783-4292-90f3-9b85e3fa41cf  691d9feb-68b9-4e9b-a2ce-ce316309e964   \n",
       "4  9eec4f39-f749-4b3b-afd2-ad9e1965b1cf  19fd6c7c-06b8-411e-8107-c542c23c486c   \n",
       "\n",
       "   event_date  restaurant_position  eta_in_minutes  distance  rating  \\\n",
       "0  2022-11-03                    3              27       1.5     4.5   \n",
       "1  2022-11-03                    5              19       1.1     0.0   \n",
       "2  2022-11-03                    7              25       1.3     0.0   \n",
       "3  2022-11-03                    1              26       1.7     4.5   \n",
       "4  2022-11-03                   13              31       2.8     4.4   \n",
       "\n",
       "   search_label  ...  active_item_count  average_feedback_rating  \\\n",
       "0             0  ...               53.0                      NaN   \n",
       "1             0  ...               80.0                      NaN   \n",
       "2             0  ...               12.0                      NaN   \n",
       "3             0  ...               92.0                 4.848233   \n",
       "4             0  ...               77.0                      NaN   \n",
       "\n",
       "   booking_completion_rate_percentage  event_month  overall_engagement_level  \\\n",
       "0                            0.932439          NaN                       NaN   \n",
       "1                            0.500000   2022-10-01                  Moderate   \n",
       "2                            0.672131   2022-10-01                  Moderate   \n",
       "3                            0.816798          NaN                       NaN   \n",
       "4                            0.950000   2022-10-01                       Low   \n",
       "\n",
       "   involvement_engagement_level  interaction_engagement_level  \\\n",
       "0                           NaN                           NaN   \n",
       "1                           Low                      Moderate   \n",
       "2                      Moderate                           Low   \n",
       "3                           NaN                           NaN   \n",
       "4                           Low                   Non-engaged   \n",
       "\n",
       "  intimacy_engagement_level  last_order_days_since_epoch  \\\n",
       "0                       NaN                          NaN   \n",
       "1                       Low                          NaN   \n",
       "2                       Low                          NaN   \n",
       "3                       NaN                          NaN   \n",
       "4               Non-engaged                          NaN   \n",
       "\n",
       "   last_visit_days_since_epoch  \n",
       "0                          NaN  \n",
       "1                          NaN  \n",
       "2                          NaN  \n",
       "3                          NaN  \n",
       "4                          NaN  \n",
       "\n",
       "[5 rows x 62 columns]"
      ]
     },
     "execution_count": 1,
     "metadata": {},
     "output_type": "execute_result"
    }
   ],
   "source": [
    "import pandas as pd\n",
    "\n",
    "df = pd.read_csv('data/sample_df.csv')\n",
    "df.head()"
   ]
  },
  {
   "cell_type": "code",
   "execution_count": 2,
   "id": "6e575724-4f97-44f7-b01c-9d143089fa92",
   "metadata": {},
   "outputs": [],
   "source": [
    "from cross_validation import train_test_split"
   ]
  },
  {
   "cell_type": "code",
   "execution_count": 3,
   "id": "786db26b-e7a8-4235-be80-b979238de7ca",
   "metadata": {},
   "outputs": [],
   "source": [
    "X_train, y_train, qids_train, X_test, y_test, qids_test, training_ids, testing_ids = train_test_split(\n",
    "                                                                                    df, 'session_id', 'clicked_label')"
   ]
  },
  {
   "cell_type": "code",
   "execution_count": 4,
   "id": "5b5fcda3-b64f-4ab4-9f8c-5c9559c15972",
   "metadata": {},
   "outputs": [],
   "source": [
    "imp_feats = [\n",
    "'weekday_completed_order'\n",
    ",'customer_brand_orders_24wk'\n",
    ",'distance'\n",
    "]"
   ]
  },
  {
   "cell_type": "code",
   "execution_count": 5,
   "id": "9a5868e5-49fe-45fb-85e8-c2333594cc9d",
   "metadata": {},
   "outputs": [],
   "source": [
    "from blindfold import BlindFold"
   ]
  },
  {
   "cell_type": "code",
   "execution_count": 6,
   "id": "7c2e7234-b385-4210-b906-755cf405ed85",
   "metadata": {},
   "outputs": [],
   "source": [
    "ranker=BlindFold()"
   ]
  },
  {
   "cell_type": "code",
   "execution_count": 7,
   "id": "dd4adbe1-6b8f-43d7-b734-057591c0b03c",
   "metadata": {
    "scrolled": true,
    "tags": []
   },
   "outputs": [
    {
     "name": "stdout",
     "output_type": "stream",
     "text": [
      "[0]\tvalidation_0-ndcg@10:1.00000\tvalidation_1-ndcg@10:1.00000\n",
      "[1]\tvalidation_0-ndcg@10:1.00000\tvalidation_1-ndcg@10:1.00000\n",
      "[2]\tvalidation_0-ndcg@10:1.00000\tvalidation_1-ndcg@10:1.00000\n",
      "[3]\tvalidation_0-ndcg@10:1.00000\tvalidation_1-ndcg@10:1.00000\n",
      "[4]\tvalidation_0-ndcg@10:1.00000\tvalidation_1-ndcg@10:1.00000\n",
      "[5]\tvalidation_0-ndcg@10:1.00000\tvalidation_1-ndcg@10:1.00000\n",
      "[6]\tvalidation_0-ndcg@10:1.00000\tvalidation_1-ndcg@10:1.00000\n",
      "[7]\tvalidation_0-ndcg@10:1.00000\tvalidation_1-ndcg@10:1.00000\n",
      "[8]\tvalidation_0-ndcg@10:1.00000\tvalidation_1-ndcg@10:1.00000\n",
      "[9]\tvalidation_0-ndcg@10:1.00000\tvalidation_1-ndcg@10:1.00000\n"
     ]
    },
    {
     "name": "stderr",
     "output_type": "stream",
     "text": [
      "/Users/gurudutttaluja/.conda/envs/pythonProject/lib/python3.7/site-packages/xgboost/sklearn.py:797: UserWarning: `eval_metric` in `fit` method is deprecated for better compatibility with scikit-learn, use `eval_metric` in constructor or`set_params` instead.\n",
      "  UserWarning,\n",
      "/Users/gurudutttaluja/.conda/envs/pythonProject/lib/python3.7/site-packages/xgboost/sklearn.py:797: UserWarning: `early_stopping_rounds` in `fit` method is deprecated for better compatibility with scikit-learn, use `early_stopping_rounds` in constructor or`set_params` instead.\n",
      "  UserWarning,\n"
     ]
    }
   ],
   "source": [
    "trained_model = ranker.fit(X_train[imp_feats], y_train, qids_train, X_test[imp_feats], y_test, qids_test)"
   ]
  },
  {
   "cell_type": "code",
   "execution_count": 8,
   "id": "8341bc05-a2f4-4828-a172-88fe4126c797",
   "metadata": {},
   "outputs": [
    {
     "data": {
      "text/plain": [
       "<blindfold.BlindFold at 0x7f8b32f52dd0>"
      ]
     },
     "execution_count": 8,
     "metadata": {},
     "output_type": "execute_result"
    }
   ],
   "source": [
    "ranker"
   ]
  },
  {
   "cell_type": "code",
   "execution_count": 9,
   "id": "565a4355-c15e-4daf-b3df-6a79178e60a1",
   "metadata": {
    "scrolled": true,
    "tags": []
   },
   "outputs": [
    {
     "data": {
      "text/plain": [
       "(798, 798)"
      ]
     },
     "execution_count": 9,
     "metadata": {},
     "output_type": "execute_result"
    }
   ],
   "source": [
    "len(trained_model.predict(X_train[imp_feats])), len(y_train)"
   ]
  },
  {
   "cell_type": "code",
   "execution_count": 10,
   "id": "50b34bbf-628a-4aeb-8858-eb522ac1d243",
   "metadata": {},
   "outputs": [
    {
     "data": {
      "text/plain": [
       "1.0"
      ]
     },
     "execution_count": 10,
     "metadata": {},
     "output_type": "execute_result"
    }
   ],
   "source": [
    "from evaluation import ndcg_for_df\n",
    "\n",
    "ndcg_for_df(df[df.session_id.isin(training_ids)], pred_column='restaurant_position', y_label='clicked_label', group_column='session_id', k=5)"
   ]
  },
  {
   "cell_type": "code",
   "execution_count": null,
   "id": "837107f2-ed3b-4573-bd62-251a5d849317",
   "metadata": {},
   "outputs": [],
   "source": []
  },
  {
   "cell_type": "code",
   "execution_count": null,
   "id": "485ff51d-a473-47df-a72d-635b1a68e989",
   "metadata": {},
   "outputs": [],
   "source": []
  },
  {
   "cell_type": "code",
   "execution_count": null,
   "id": "044197a9-eb88-4c06-9df6-e4ac4579d8ef",
   "metadata": {},
   "outputs": [],
   "source": []
  },
  {
   "cell_type": "code",
   "execution_count": null,
   "id": "f3bff11c-57d7-4e34-a0c7-4fe0640b2ae1",
   "metadata": {},
   "outputs": [],
   "source": []
  },
  {
   "cell_type": "code",
   "execution_count": null,
   "id": "5ddd8dac-de26-4553-94bd-34818b74ea68",
   "metadata": {},
   "outputs": [],
   "source": []
  },
  {
   "cell_type": "code",
   "execution_count": null,
   "id": "7422632e-385c-44e1-960a-2be858ba4cd5",
   "metadata": {},
   "outputs": [],
   "source": []
  },
  {
   "cell_type": "code",
   "execution_count": null,
   "id": "ff2e417c-48e7-49a2-b2e5-0830e13e0b89",
   "metadata": {},
   "outputs": [],
   "source": []
  },
  {
   "cell_type": "code",
   "execution_count": null,
   "id": "02d2d1a5-36d3-4239-ad42-93cfbc73a223",
   "metadata": {},
   "outputs": [],
   "source": []
  },
  {
   "cell_type": "code",
   "execution_count": null,
   "id": "380706a4-71e8-4cfc-8185-49a2645bc18f",
   "metadata": {},
   "outputs": [],
   "source": []
  },
  {
   "cell_type": "code",
   "execution_count": null,
   "id": "57ffba88-af1c-4c22-bfef-bed3e7428688",
   "metadata": {},
   "outputs": [],
   "source": []
  }
 ],
 "metadata": {
  "kernelspec": {
   "display_name": "Python 3 (3.7.13)",
   "language": "python",
   "name": "pythonproject"
  },
  "language_info": {
   "codemirror_mode": {
    "name": "ipython",
    "version": 3
   },
   "file_extension": ".py",
   "mimetype": "text/x-python",
   "name": "python",
   "nbconvert_exporter": "python",
   "pygments_lexer": "ipython3",
   "version": "3.7.13"
  }
 },
 "nbformat": 4,
 "nbformat_minor": 5
}
