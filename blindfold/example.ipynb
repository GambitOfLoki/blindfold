{
 "cells": [
  {
   "cell_type": "code",
   "execution_count": 1,
   "id": "228cb601-47a3-448d-9a0d-4ade25be64ec",
   "metadata": {},
   "outputs": [
    {
     "data": {
      "text/html": [
       "<div>\n",
       "<style scoped>\n",
       "    .dataframe tbody tr th:only-of-type {\n",
       "        vertical-align: middle;\n",
       "    }\n",
       "\n",
       "    .dataframe tbody tr th {\n",
       "        vertical-align: top;\n",
       "    }\n",
       "\n",
       "    .dataframe thead th {\n",
       "        text-align: right;\n",
       "    }\n",
       "</style>\n",
       "<table border=\"1\" class=\"dataframe\">\n",
       "  <thead>\n",
       "    <tr style=\"text-align: right;\">\n",
       "      <th></th>\n",
       "      <th>group_id</th>\n",
       "      <th>original_position</th>\n",
       "      <th>1</th>\n",
       "      <th>2</th>\n",
       "      <th>3</th>\n",
       "      <th>4</th>\n",
       "      <th>5</th>\n",
       "      <th>6</th>\n",
       "      <th>7</th>\n",
       "      <th>8</th>\n",
       "      <th>...</th>\n",
       "      <th>32</th>\n",
       "      <th>33</th>\n",
       "      <th>34</th>\n",
       "      <th>35</th>\n",
       "      <th>36</th>\n",
       "      <th>37</th>\n",
       "      <th>38</th>\n",
       "      <th>39</th>\n",
       "      <th>40</th>\n",
       "      <th>label</th>\n",
       "    </tr>\n",
       "  </thead>\n",
       "  <tbody>\n",
       "    <tr>\n",
       "      <th>0</th>\n",
       "      <td>f061abd6-7eae-4bf4-bb50-88e80cc7c837</td>\n",
       "      <td>9</td>\n",
       "      <td>0.344828</td>\n",
       "      <td>0.015152</td>\n",
       "      <td>0.92</td>\n",
       "      <td>0.571429</td>\n",
       "      <td>0.478261</td>\n",
       "      <td>0.000000</td>\n",
       "      <td>0.000000</td>\n",
       "      <td>0.000000</td>\n",
       "      <td>...</td>\n",
       "      <td>0.010648</td>\n",
       "      <td>0.002064</td>\n",
       "      <td>0.001717</td>\n",
       "      <td>0.262489</td>\n",
       "      <td>0.267794</td>\n",
       "      <td>1.000000</td>\n",
       "      <td>0.013932</td>\n",
       "      <td>0.002017</td>\n",
       "      <td>0.967240</td>\n",
       "      <td>0</td>\n",
       "    </tr>\n",
       "    <tr>\n",
       "      <th>1</th>\n",
       "      <td>1669ecab-82b0-48b1-b429-7f5262204bfb</td>\n",
       "      <td>21</td>\n",
       "      <td>0.413793</td>\n",
       "      <td>0.090909</td>\n",
       "      <td>0.90</td>\n",
       "      <td>1.000000</td>\n",
       "      <td>0.217391</td>\n",
       "      <td>0.000000</td>\n",
       "      <td>0.000000</td>\n",
       "      <td>0.000000</td>\n",
       "      <td>...</td>\n",
       "      <td>0.014352</td>\n",
       "      <td>0.021672</td>\n",
       "      <td>0.001706</td>\n",
       "      <td>0.066377</td>\n",
       "      <td>0.097252</td>\n",
       "      <td>0.947368</td>\n",
       "      <td>0.013932</td>\n",
       "      <td>0.002129</td>\n",
       "      <td>0.944403</td>\n",
       "      <td>0</td>\n",
       "    </tr>\n",
       "    <tr>\n",
       "      <th>2</th>\n",
       "      <td>ba05c944-9754-462c-af8e-29a29cb7fa95</td>\n",
       "      <td>10</td>\n",
       "      <td>0.310345</td>\n",
       "      <td>0.015152</td>\n",
       "      <td>0.90</td>\n",
       "      <td>1.000000</td>\n",
       "      <td>0.521739</td>\n",
       "      <td>0.000000</td>\n",
       "      <td>0.000000</td>\n",
       "      <td>0.000000</td>\n",
       "      <td>...</td>\n",
       "      <td>0.014815</td>\n",
       "      <td>0.017544</td>\n",
       "      <td>0.002637</td>\n",
       "      <td>0.199186</td>\n",
       "      <td>0.272375</td>\n",
       "      <td>0.553846</td>\n",
       "      <td>0.027864</td>\n",
       "      <td>0.007285</td>\n",
       "      <td>0.934003</td>\n",
       "      <td>0</td>\n",
       "    </tr>\n",
       "    <tr>\n",
       "      <th>3</th>\n",
       "      <td>ba05c944-9754-462c-af8e-29a29cb7fa95</td>\n",
       "      <td>18</td>\n",
       "      <td>0.327586</td>\n",
       "      <td>0.035354</td>\n",
       "      <td>0.96</td>\n",
       "      <td>1.000000</td>\n",
       "      <td>0.521739</td>\n",
       "      <td>0.000000</td>\n",
       "      <td>0.000000</td>\n",
       "      <td>0.000000</td>\n",
       "      <td>...</td>\n",
       "      <td>0.002778</td>\n",
       "      <td>0.004128</td>\n",
       "      <td>0.000747</td>\n",
       "      <td>0.138146</td>\n",
       "      <td>0.145877</td>\n",
       "      <td>1.000000</td>\n",
       "      <td>0.010836</td>\n",
       "      <td>0.001569</td>\n",
       "      <td>0.919672</td>\n",
       "      <td>0</td>\n",
       "    </tr>\n",
       "    <tr>\n",
       "      <th>4</th>\n",
       "      <td>da3e6fd8-6107-4b72-a8c5-f7647443b0a0</td>\n",
       "      <td>20</td>\n",
       "      <td>0.310345</td>\n",
       "      <td>0.101010</td>\n",
       "      <td>0.94</td>\n",
       "      <td>0.142857</td>\n",
       "      <td>0.608696</td>\n",
       "      <td>0.076923</td>\n",
       "      <td>0.083333</td>\n",
       "      <td>0.063927</td>\n",
       "      <td>...</td>\n",
       "      <td>0.052778</td>\n",
       "      <td>0.052632</td>\n",
       "      <td>0.064694</td>\n",
       "      <td>0.172554</td>\n",
       "      <td>0.958069</td>\n",
       "      <td>0.586466</td>\n",
       "      <td>0.181115</td>\n",
       "      <td>0.044716</td>\n",
       "      <td>0.881276</td>\n",
       "      <td>0</td>\n",
       "    </tr>\n",
       "  </tbody>\n",
       "</table>\n",
       "<p>5 rows × 43 columns</p>\n",
       "</div>"
      ],
      "text/plain": [
       "                               group_id  original_position         1  \\\n",
       "0  f061abd6-7eae-4bf4-bb50-88e80cc7c837                  9  0.344828   \n",
       "1  1669ecab-82b0-48b1-b429-7f5262204bfb                 21  0.413793   \n",
       "2  ba05c944-9754-462c-af8e-29a29cb7fa95                 10  0.310345   \n",
       "3  ba05c944-9754-462c-af8e-29a29cb7fa95                 18  0.327586   \n",
       "4  da3e6fd8-6107-4b72-a8c5-f7647443b0a0                 20  0.310345   \n",
       "\n",
       "          2     3         4         5         6         7         8  ...  \\\n",
       "0  0.015152  0.92  0.571429  0.478261  0.000000  0.000000  0.000000  ...   \n",
       "1  0.090909  0.90  1.000000  0.217391  0.000000  0.000000  0.000000  ...   \n",
       "2  0.015152  0.90  1.000000  0.521739  0.000000  0.000000  0.000000  ...   \n",
       "3  0.035354  0.96  1.000000  0.521739  0.000000  0.000000  0.000000  ...   \n",
       "4  0.101010  0.94  0.142857  0.608696  0.076923  0.083333  0.063927  ...   \n",
       "\n",
       "         32        33        34        35        36        37        38  \\\n",
       "0  0.010648  0.002064  0.001717  0.262489  0.267794  1.000000  0.013932   \n",
       "1  0.014352  0.021672  0.001706  0.066377  0.097252  0.947368  0.013932   \n",
       "2  0.014815  0.017544  0.002637  0.199186  0.272375  0.553846  0.027864   \n",
       "3  0.002778  0.004128  0.000747  0.138146  0.145877  1.000000  0.010836   \n",
       "4  0.052778  0.052632  0.064694  0.172554  0.958069  0.586466  0.181115   \n",
       "\n",
       "         39        40  label  \n",
       "0  0.002017  0.967240      0  \n",
       "1  0.002129  0.944403      0  \n",
       "2  0.007285  0.934003      0  \n",
       "3  0.001569  0.919672      0  \n",
       "4  0.044716  0.881276      0  \n",
       "\n",
       "[5 rows x 43 columns]"
      ]
     },
     "execution_count": 1,
     "metadata": {},
     "output_type": "execute_result"
    }
   ],
   "source": [
    "import pandas as pd\n",
    "\n",
    "df = pd.read_csv('data/sample_df.csv')\n",
    "df.head()"
   ]
  },
  {
   "cell_type": "code",
   "execution_count": 2,
   "id": "6e575724-4f97-44f7-b01c-9d143089fa92",
   "metadata": {},
   "outputs": [],
   "source": [
    "from cross_validation import train_test_split"
   ]
  },
  {
   "cell_type": "code",
   "execution_count": 3,
   "id": "786db26b-e7a8-4235-be80-b979238de7ca",
   "metadata": {},
   "outputs": [],
   "source": [
    "X_train, y_train, qids_train, X_test, y_test, qids_test, training_ids, testing_ids = train_test_split(\n",
    "                                                                                    df, 'group_id', 'label')"
   ]
  },
  {
   "cell_type": "code",
   "execution_count": 4,
   "id": "5b5fcda3-b64f-4ab4-9f8c-5c9559c15972",
   "metadata": {},
   "outputs": [],
   "source": [
    "imp_feats = [str(i) for i in range(1, 41)]"
   ]
  },
  {
   "cell_type": "code",
   "execution_count": 5,
   "id": "9a5868e5-49fe-45fb-85e8-c2333594cc9d",
   "metadata": {},
   "outputs": [],
   "source": [
    "from blindfold import BlindFold"
   ]
  },
  {
   "cell_type": "code",
   "execution_count": 6,
   "id": "7c2e7234-b385-4210-b906-755cf405ed85",
   "metadata": {},
   "outputs": [],
   "source": [
    "ranker=BlindFold()"
   ]
  },
  {
   "cell_type": "code",
   "execution_count": 7,
   "id": "dd4adbe1-6b8f-43d7-b734-057591c0b03c",
   "metadata": {
    "scrolled": true,
    "tags": []
   },
   "outputs": [
    {
     "name": "stdout",
     "output_type": "stream",
     "text": [
      "[0]\tvalidation_0-ndcg@10:0.62178\tvalidation_1-ndcg@10:0.62510\n",
      "[1]\tvalidation_0-ndcg@10:0.64203\tvalidation_1-ndcg@10:0.64352\n",
      "[2]\tvalidation_0-ndcg@10:0.63921\tvalidation_1-ndcg@10:0.64156\n",
      "[3]\tvalidation_0-ndcg@10:0.64050\tvalidation_1-ndcg@10:0.64203\n",
      "[4]\tvalidation_0-ndcg@10:0.64568\tvalidation_1-ndcg@10:0.64344\n",
      "[5]\tvalidation_0-ndcg@10:0.64643\tvalidation_1-ndcg@10:0.64210\n",
      "[6]\tvalidation_0-ndcg@10:0.65110\tvalidation_1-ndcg@10:0.64646\n",
      "[7]\tvalidation_0-ndcg@10:0.65667\tvalidation_1-ndcg@10:0.64881\n"
     ]
    },
    {
     "name": "stderr",
     "output_type": "stream",
     "text": [
      "/Users/gurudutttaluja/.conda/envs/pythonProject/lib/python3.7/site-packages/xgboost/sklearn.py:797: UserWarning: `eval_metric` in `fit` method is deprecated for better compatibility with scikit-learn, use `eval_metric` in constructor or`set_params` instead.\n",
      "  UserWarning,\n",
      "/Users/gurudutttaluja/.conda/envs/pythonProject/lib/python3.7/site-packages/xgboost/sklearn.py:797: UserWarning: `early_stopping_rounds` in `fit` method is deprecated for better compatibility with scikit-learn, use `early_stopping_rounds` in constructor or`set_params` instead.\n",
      "  UserWarning,\n"
     ]
    },
    {
     "name": "stdout",
     "output_type": "stream",
     "text": [
      "[8]\tvalidation_0-ndcg@10:0.65566\tvalidation_1-ndcg@10:0.64906\n",
      "[9]\tvalidation_0-ndcg@10:0.65532\tvalidation_1-ndcg@10:0.65052\n"
     ]
    }
   ],
   "source": [
    "trained_model = ranker.fit(X_train[imp_feats], y_train, qids_train, X_test[imp_feats], y_test, qids_test)"
   ]
  },
  {
   "cell_type": "code",
   "execution_count": 8,
   "id": "50b34bbf-628a-4aeb-8858-eb522ac1d243",
   "metadata": {},
   "outputs": [
    {
     "data": {
      "text/plain": [
       "0.4830068447783998"
      ]
     },
     "execution_count": 8,
     "metadata": {},
     "output_type": "execute_result"
    }
   ],
   "source": [
    "from evaluation import ndcg_for_df\n",
    "\n",
    "ndcg_for_df(df[df.group_id.isin(training_ids)], pred_column='original_position', \n",
    "            y_label='label', group_column='group_id', k=100)"
   ]
  },
  {
   "cell_type": "code",
   "execution_count": 9,
   "id": "12237f8d-6a70-491f-87e5-f51657015513",
   "metadata": {},
   "outputs": [],
   "source": [
    "df[\"pred\"] = trained_model.predict(df[imp_feats])\n",
    "df[\"rank\"] = df.groupby(\"group_id\")[\"pred\"].rank(method=\"dense\", ascending=False)"
   ]
  },
  {
   "cell_type": "code",
   "execution_count": 10,
   "id": "b86dc8c1-f906-4324-bf3f-001a9372586e",
   "metadata": {},
   "outputs": [
    {
     "data": {
      "text/plain": [
       "0.5267837586925701"
      ]
     },
     "execution_count": 10,
     "metadata": {},
     "output_type": "execute_result"
    }
   ],
   "source": [
    "ndcg_for_df(df[df.group_id.isin(training_ids)], pred_column='rank', \n",
    "            y_label='label', group_column='group_id', k=100)"
   ]
  },
  {
   "cell_type": "code",
   "execution_count": null,
   "id": "57ffba88-af1c-4c22-bfef-bed3e7428688",
   "metadata": {},
   "outputs": [],
   "source": []
  }
 ],
 "metadata": {
  "kernelspec": {
   "display_name": "Python 3 (3.7.13)",
   "language": "python",
   "name": "pythonproject"
  },
  "language_info": {
   "codemirror_mode": {
    "name": "ipython",
    "version": 3
   },
   "file_extension": ".py",
   "mimetype": "text/x-python",
   "name": "python",
   "nbconvert_exporter": "python",
   "pygments_lexer": "ipython3",
   "version": "3.7.13"
  }
 },
 "nbformat": 4,
 "nbformat_minor": 5
}
